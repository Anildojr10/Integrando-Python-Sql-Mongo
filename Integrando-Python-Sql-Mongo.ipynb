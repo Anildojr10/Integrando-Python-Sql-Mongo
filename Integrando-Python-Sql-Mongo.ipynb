{
  "nbformat": 4,
  "nbformat_minor": 0,
  "metadata": {
    "colab": {
      "provenance": [],
      "authorship_tag": "ABX9TyOjlzjrw8Kush6zrxzbYfEg",
      "include_colab_link": true
    },
    "kernelspec": {
      "name": "python3",
      "display_name": "Python 3"
    },
    "language_info": {
      "name": "python"
    }
  },
  "cells": [
    {
      "cell_type": "markdown",
      "metadata": {
        "id": "view-in-github",
        "colab_type": "text"
      },
      "source": [
        "<a href=\"https://colab.research.google.com/github/Anildojr10/Integrando-Python-Sql-Mongo/blob/main/Integrando-Python-Sql-Mongo.ipynb\" target=\"_parent\"><img src=\"https://colab.research.google.com/assets/colab-badge.svg\" alt=\"Open In Colab\"/></a>"
      ]
    },
    {
      "cell_type": "code",
      "execution_count": 3,
      "metadata": {
        "id": "iJXzwBd4PgIu",
        "colab": {
          "base_uri": "https://localhost:8080/"
        },
        "outputId": "2c00bfd9-5ecc-44f1-8954-d89892d92359"
      },
      "outputs": [
        {
          "output_type": "stream",
          "name": "stdout",
          "text": [
            "Requirement already satisfied: sqlalchemy in /usr/local/lib/python3.10/dist-packages (2.0.23)\n",
            "Requirement already satisfied: pymongo in /usr/local/lib/python3.10/dist-packages (4.6.0)\n",
            "Requirement already satisfied: typing-extensions>=4.2.0 in /usr/local/lib/python3.10/dist-packages (from sqlalchemy) (4.5.0)\n",
            "Requirement already satisfied: greenlet!=0.4.17 in /usr/local/lib/python3.10/dist-packages (from sqlalchemy) (3.0.1)\n",
            "Requirement already satisfied: dnspython<3.0.0,>=1.16.0 in /usr/local/lib/python3.10/dist-packages (from pymongo) (2.4.2)\n",
            "Requirement already satisfied: sqlalchemy in /usr/local/lib/python3.10/dist-packages (2.0.23)\n",
            "Requirement already satisfied: typing-extensions>=4.2.0 in /usr/local/lib/python3.10/dist-packages (from sqlalchemy) (4.5.0)\n",
            "Requirement already satisfied: greenlet!=0.4.17 in /usr/local/lib/python3.10/dist-packages (from sqlalchemy) (3.0.1)\n"
          ]
        }
      ],
      "source": [
        "!pip install sqlalchemy pymongo\n",
        "!pip install sqlalchemy\n",
        "import pymongo\n",
        "from sqlalchemy import create_engine, Column, Integer, String\n",
        "from sqlalchemy.ext.declarative import declarative_base\n",
        "from sqlalchemy.orm import sessionmaker"
      ]
    },
    {
      "cell_type": "code",
      "source": [
        "# Conectar ao banco de dados SQLite\n",
        "engine = create_engine('sqlite:///minhabasededados.db')\n",
        "Base = declarative_base()\n",
        "\n",
        "# Definir classes para as tabelas\n",
        "class Cliente(Base):\n",
        "    __tablename__ = 'clientes'\n",
        "    id = Column(Integer, primary_key=True)\n",
        "    nome = Column(String)\n",
        "    # Adicione mais campos conforme necessário\n",
        "\n",
        "class Conta(Base):\n",
        "    __tablename__ = 'contas'\n",
        "    id = Column(Integer, primary_key=True)\n",
        "    cliente_id = Column(Integer)\n",
        "    saldo = Column(Integer)\n",
        "    # Adicione mais campos conforme necessário\n",
        "\n",
        "# Criar as tabelas no banco de dados\n",
        "Base.metadata.create_all(engine)\n",
        "\n",
        "# Criar uma sessão\n",
        "Session = sessionmaker(bind=engine)\n",
        "session = Session()\n"
      ],
      "metadata": {
        "id": "oop65KHgQ46n"
      },
      "execution_count": null,
      "outputs": []
    },
    {
      "cell_type": "code",
      "source": [
        "# Conectar ao MongoDB\n",
        "client = pymongo.MongoClient(\"mongodb+srv://<sua_conexao_aqui>\")\n",
        "db = client[\"banco_de_dados\"]\n",
        "\n",
        "# Definir uma coleção para clientes\n",
        "colecao_clientes = db[\"clientes\"]\n",
        "\n",
        "# Inserir documentos\n",
        "documento_cliente = {\n",
        "    \"nome\": \"Nome do Cliente\",\n",
        "    \"contas\": [\n",
        "        {\"tipo\": \"Conta Corrente\", \"saldo\": 1000},\n",
        "        {\"tipo\": \"Conta Poupança\", \"saldo\": 500}\n",
        "    ]\n",
        "}\n",
        "colecao_clientes.insert_one(documento_cliente)\n",
        "\n",
        "# Recuperar informações\n",
        "cliente = colecao_clientes.find_one({\"nome\": \"Nome do Cliente\"})\n",
        "print(cliente)\n"
      ],
      "metadata": {
        "id": "qLg1BK6LQ-SP"
      },
      "execution_count": null,
      "outputs": []
    }
  ]
}